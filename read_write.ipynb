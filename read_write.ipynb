{
 "cells": [
  {
   "cell_type": "code",
   "execution_count": 7,
   "metadata": {},
   "outputs": [
    {
     "name": "stdout",
     "output_type": "stream",
     "text": [
      "['Two roads diverged in a yellow wood,\\n', 'And sorry I could not travel both\\n', 'And be one traveler, long I stood\\n', 'And looked down one as far as I could\\n', 'To where it bent in the undergrowth;\\n', '\\n', 'Then took the other, as just as fair,\\n', 'And having perhaps the better claim,\\n', 'Because it was grassy and wanted wear;\\n', 'Though as for that the passing there\\n', 'Had worn them really about the same,\\n', '\\n', 'And both that morning equally lay\\n', 'In leaves no step had trodden black.\\n', 'Oh, I kept the first for another day!\\n', 'Yet knowing how way leads on to way,\\n', 'I doubted if I should ever come back.\\n', '\\n', 'I shall be telling this with a sigh\\n', 'Somewhere ages and ages hence:\\n', 'Two roads diverged in a wood, and Iâ€”\\n', 'I took the one less traveled by,\\n', 'And that has made all the difference.\\n']\n"
     ]
    }
   ],
   "source": [
    "file = open('poem.txt', 'r')\n",
    "print(file.readlines())\n",
    "file.close()"
   ]
  }
 ],
 "metadata": {
  "kernelspec": {
   "display_name": "Python 3",
   "language": "python",
   "name": "python3"
  },
  "language_info": {
   "codemirror_mode": {
    "name": "ipython",
    "version": 3
   },
   "file_extension": ".py",
   "mimetype": "text/x-python",
   "name": "python",
   "nbconvert_exporter": "python",
   "pygments_lexer": "ipython3",
   "version": "3.12.6"
  }
 },
 "nbformat": 4,
 "nbformat_minor": 2
}
